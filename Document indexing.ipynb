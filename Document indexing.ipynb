{
 "cells": [
  {
   "cell_type": "markdown",
   "id": "fed918c1",
   "metadata": {},
   "source": [
    "## Loading the dataset"
   ]
  },
  {
   "cell_type": "code",
   "execution_count": 10,
   "id": "89a50d91",
   "metadata": {},
   "outputs": [
    {
     "data": {
      "text/plain": [
       "1"
      ]
     },
     "execution_count": 10,
     "metadata": {},
     "output_type": "execute_result"
    }
   ],
   "source": [
    "from langchain.document_loaders import DirectoryLoader\n",
    "\n",
    "directory = 'dataset'\n",
    "\n",
    "def load_docs(directory):\n",
    "  loader = DirectoryLoader(directory)\n",
    "  documents = loader.load()\n",
    "  return documents\n",
    "\n",
    "documents = load_docs(directory)\n",
    "len(documents)"
   ]
  },
  {
   "cell_type": "markdown",
   "id": "013e6274",
   "metadata": {},
   "source": [
    "## Splitting it into chunks of text "
   ]
  },
  {
   "cell_type": "code",
   "execution_count": 11,
   "id": "8ddcd713",
   "metadata": {},
   "outputs": [
    {
     "name": "stdout",
     "output_type": "stream",
     "text": [
      "322\n"
     ]
    }
   ],
   "source": [
    "from langchain.text_splitter import RecursiveCharacterTextSplitter\n",
    "\n",
    "def split_docs(documents,chunk_size=500,chunk_overlap=20):\n",
    "  text_splitter = RecursiveCharacterTextSplitter(chunk_size=chunk_size, chunk_overlap=chunk_overlap)\n",
    "  docs = text_splitter.split_documents(documents)\n",
    "  return docs\n",
    "\n",
    "docs = split_docs(documents)\n",
    "print(len(docs))"
   ]
  },
  {
   "cell_type": "code",
   "execution_count": 106,
   "id": "e804d6c2",
   "metadata": {},
   "outputs": [
    {
     "data": {
      "text/plain": [
       "langchain_core.documents.base.Document"
      ]
     },
     "execution_count": 106,
     "metadata": {},
     "output_type": "execute_result"
    }
   ],
   "source": [
    "#Datatype\n",
    "type(docs[0])"
   ]
  },
  {
   "cell_type": "markdown",
   "id": "b9d5b45b",
   "metadata": {},
   "source": [
    "## Importing sentencetransformer embeddings and upseting the data into Pinecone"
   ]
  },
  {
   "cell_type": "code",
   "execution_count": 90,
   "id": "99e66449",
   "metadata": {},
   "outputs": [],
   "source": [
    "from langchain.embeddings import SentenceTransformerEmbeddings\n",
    "embeddings = SentenceTransformerEmbeddings(model_name=\"all-MiniLM-L6-v2\")"
   ]
  },
  {
   "cell_type": "code",
   "execution_count": 22,
   "id": "c34ad5ac",
   "metadata": {},
   "outputs": [
    {
     "data": {
      "text/plain": [
       "384"
      ]
     },
     "execution_count": 22,
     "metadata": {},
     "output_type": "execute_result"
    }
   ],
   "source": [
    "#Checking the emebdding size\n",
    "query_result = embeddings.embed_query(\"Hello world, how are you?\")\n",
    "len(query_result)"
   ]
  },
  {
   "cell_type": "code",
   "execution_count": 97,
   "id": "02190088",
   "metadata": {},
   "outputs": [],
   "source": [
    "import os\n",
    "os.environ['PINECONE_API_KEY'] = 'c124a108-672c-4cb1-b1b8-96b6560d86c5'\n",
    "index_name = \"vitbot\""
   ]
  },
  {
   "cell_type": "code",
   "execution_count": 98,
   "id": "0d9ccb04",
   "metadata": {},
   "outputs": [],
   "source": [
    "from langchain_pinecone import PineconeVectorStore\n",
    "vectorstore_from_docs = PineconeVectorStore.from_documents(\n",
    "        docs,\n",
    "        index_name=index_name,\n",
    "        embedding=embeddings\n",
    "    )"
   ]
  },
  {
   "cell_type": "code",
   "execution_count": 115,
   "id": "94a17770",
   "metadata": {},
   "outputs": [
    {
     "data": {
      "text/plain": [
       "[Document(metadata={'source': 'dataset/brochure.txt'}, page_content='crediting Post Graduate level courses.'),\n",
       " Document(metadata={'source': 'dataset/brochure.txt'}, page_content='A course credit is a measurement of duration that the course is offered as an ‘instruction’ to students. All courses are considered to be offered for the entire duration of a semester. A semester is deemed to have 15 instructional (non-exam) weeks. A class room lecture (L) of 50 minutes duration per week, carried out during all weeks of the semester, shall be considered as one Instructional Unit or one Credit. A tutorial (T) of 50 minutes duration per week, carried out during all weeks of the'),\n",
       " Document(metadata={'source': 'dataset/brochure.txt'}, page_content='56. Course and Credit requirements\\n\\nThis section outlines the structure of the curriculum, courses and various requirements for program completion.\\n\\n6.1 Course Credits')]"
      ]
     },
     "execution_count": 115,
     "metadata": {},
     "output_type": "execute_result"
    }
   ],
   "source": [
    "query = \"What are course credits?\"\n",
    "vectorstore_from_docs.similarity_search(query,k=3)"
   ]
  },
  {
   "cell_type": "code",
   "execution_count": null,
   "id": "9c015a59",
   "metadata": {},
   "outputs": [],
   "source": []
  }
 ],
 "metadata": {
  "kernelspec": {
   "display_name": "chatbot",
   "language": "python",
   "name": "chatbot"
  },
  "language_info": {
   "codemirror_mode": {
    "name": "ipython",
    "version": 3
   },
   "file_extension": ".py",
   "mimetype": "text/x-python",
   "name": "python",
   "nbconvert_exporter": "python",
   "pygments_lexer": "ipython3",
   "version": "3.8.19"
  }
 },
 "nbformat": 4,
 "nbformat_minor": 5
}
